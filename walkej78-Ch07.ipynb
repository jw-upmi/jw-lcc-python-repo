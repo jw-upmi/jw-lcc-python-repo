{
 "cells": [
  {
   "cell_type": "markdown",
   "id": "8592107e-18e8-4624-808f-8572e2a23b9d",
   "metadata": {},
   "source": [
    "# Coding Set 07"
   ]
  },
  {
   "cell_type": "markdown",
   "id": "74e2584c-06e9-4dc7-baf2-28f825004755",
   "metadata": {},
   "source": [
    "Please complete SIX questions from Chapter 7 of your textbook using a Jupyter Notebook or VS Code (paired with frequent commits to GitHub) or Google Colaboratory (paired with cells that build up solutions iteratively or access to your revision history). Alternatively, students may also record their work using SnagIt to demonstrate the iterative process.\n",
    "\n",
    "If you use ChatGPT to help with any step, please include information describing how it helped you. Of note, you may use ChatGPT to troubleshoot code that isn't working to come up with a functioning solution, but I want to see evidence of attempts by you to get something started on your own. Additionally, I want to see evidence of you refining any AI-generated solutions to better meet the specific needs of our assignment.\n",
    "\n",
    "<b>REMEMBER: All solutions should include a main function that starts the execution.\n",
    "\n",
    "1. <b>Algorithm Workbench</b> (Any Two Questions)\n",
    "2. <b>Programming Exercises</b> (Four Questions)\n",
    "    - Question 1\n",
    "    - Question 14\n",
    "    - Choose any TWO other questions from the Chapter 7 Programming Exercises."
   ]
  }
 ],
 "metadata": {
  "kernelspec": {
   "display_name": "Python 3 (ipykernel)",
   "language": "python",
   "name": "python3"
  },
  "language_info": {
   "codemirror_mode": {
    "name": "ipython",
    "version": 3
   },
   "file_extension": ".py",
   "mimetype": "text/x-python",
   "name": "python",
   "nbconvert_exporter": "python",
   "pygments_lexer": "ipython3",
   "version": "3.10.9"
  }
 },
 "nbformat": 4,
 "nbformat_minor": 5
}
