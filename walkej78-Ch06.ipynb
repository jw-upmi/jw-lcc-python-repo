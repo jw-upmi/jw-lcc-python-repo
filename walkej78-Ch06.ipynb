{
 "cells": [
  {
   "cell_type": "markdown",
   "id": "4e7beded-f2d1-4e3e-a834-13b99552cf89",
   "metadata": {
    "tags": []
   },
   "source": [
    "# Code Set 6\n",
    "\n",
    "Please complete SIX questions from Chapter 6 of your textbook using a Jupyter Notebook or VS Code (paired with frequent commits to GitHub) or Google Colaboratory (paired with cells that build up solutions iteratively or access to your revision history). Alternatively, students may also record their work using SnagIt to demonstrate the iterative process.\n",
    "\n",
    "If you use ChatGPT to help with any step, please include information describing how it helped you. Of note, you may use ChatGPT to troubleshoot code that isn't working to come up with a functioning solution, but I want to see evidence of attempts by you to get something started on your own.\n",
    "\n",
    "## Algorithm Workbench (Any Two Questions)\n",
    "\n",
    "1. Write a program that opens an output file with the filename my_name.txt, writes your name to the file, then closes the file.\n",
    "2. Write a program that opens the my_name.txt file that was created by the program in problem 1, reads your name from the file, displays the name on the screen, then closes the file.\n",
    "3. Write code that does the following: opens an output file with the filename number_ list.txt, uses a loop to write the numbers 1 through 100 to the file, then closes the file.\n",
    "4. Write code that does the following: opens the number_list.txt file that was created by the code you wrote in question 3, reads all of the numbers from the file and displays them, then closes the file.\n",
    "5. Modify the code that you wrote in problem 4 so it adds all of the numbers read from the file and displays their total.\n",
    "6. Write code that opens an output file with the filename number_list.txt, but does not erase the file’s contents if it already exists.\n",
    "7. A file exists on the disk named students.txt. The file contains several records, and each record contains two fields: (1) the student’s name, and (2) the student’s score for the final exam. Write code that deletes the record containing “John Perz” as the student name.\n",
    "8.  A file exists on the disk named students.txt. The file contains several records, and each record contains two fields: (1) the student’s name, and (2) the student’s score for the final exam. Write code that changes Julie Milan’s score to 100.\n",
    "9. What will the following code display? \n",
    "    try:\n",
    "        x = float('abc123')\n",
    "        print('The conversion is complete.')\n",
    "    except IOError:\n",
    "        print('This code caused an IOError.')\n",
    "    except ValueError:\n",
    "        print('This code caused a ValueError.')\n",
    "    print('The end.')        \n",
    "10. What will the following code display?\n",
    "    try\n",
    "        x = float('abc123')\n",
    "        print (x)\n",
    "    except IOError:\n",
    "        print( 'This code caused an IOError.\n",
    "    except ZeroDivi sionError:\n",
    "        print( 'This code caused a ZeroDivisionError.\n",
    "    except :\n",
    "        print( 'An error happened. ')\n",
    "    print ('The end. ')\n",
    "\n",
    "## Programming Exercises (Four Questions)\n",
    " - Question 1\n",
    " - Question 6\n",
    " - Question 9\n",
    " - Choose any other problem from the Chapter 6 Programming\n",
    "\n",
    "1. File Display<br>Assume a file containing a series of integers is named numbers.txt and exists on the computer’s disk. Write a program that displays all of the numbers in the file.\n",
    "2. File Head Display<br>Write a program that asks the user for the name of a file. The program should display only the first five lines of the file’s contents. If the file contains less than five lines, it should display the file’s entire contents.\n",
    "3. Line Numbers<br>Write a program that asks the user for the name of a file. The program should display the contents of the file with each line preceded with a line number followed by a colon. The line numbering should start at 1.\n",
    "4. Item Counter<br>Assume a file containing a series of names (as strings) is named names.txt and exists on the computer’s disk. Write a program that displays the number of names that are stored in the file. (Hint: Open the file and read every string stored in it. Use a variable to keep a count of the number of items that are read from the file.)\n",
    "5. Sum of Numbers<br>Assume a file containing a series of integers is named numbers.txt and exists on the computer’s disk. Write a program that reads all of the numbers stored in the file and calculates their total.\n",
    "6. Average of Numbers<br>Assume a file containing a series of integers is named numbers.txt and exists on the computer’s disk. Write a program that calculates the average of all the numbers stored in the file.\n",
    "7. Random Number File Writer<br>Write a program that writes a series of random numbers to a file. Each random number should be in the range of 1 through 500. The application should let the user specify how many random numbers the file will hold.\n",
    "8. Random Number File Reader<br>This exercise assumes you have completed Programming Exercise 7, Random Number File Writer. Write another program that reads the random numbers from the file, displays the numbers, then displays the following data:\n",
    "    - The total of the numbers\n",
    "    - The number of random numbers read from the file             \n",
    "9. Exception Handing<br>Modify the program that you wrote for Exercise 6 so it handles the following exceptions:\n",
    "    - It should handle any IOError exceptions that are raised when the file is opened and data is read from it.\n",
    "    - It should handle any ValueError exceptions that are raised when the items that are read from the file are converted to a number.              \n",
    "10. Exception Handing<br>Modify the program that you wrote for Exercise 6 so it handles the following exceptions:\n",
    "    - It should handle any IOError exceptions that are raised when the file is opened and data is read from it.\n",
    "    - It should handle any ValueError exceptions that are raised when the items that are read from the file are converted to a number.\n",
    "                \n",
    "11. Personal Web Page Generator<br>Write a program that asks the user for his or her name, then asks the user to enter a sentence that describes himself or herself. Here is an example of the program’s screen:Enter your name:<br>Enter your name: Julie Taylor [Enter]<br>Describe yourself: I am a computer science major, a member of the Jazz club, and I hope to work as a mobile app developer after I graduate.[Enter]<br>Once the user has entered the requested input, the program should create an HTML file, containing the input, for a simple Web page. Here is an example of the HTML content, using the sample input previously shown:\n",
    "    1. \\</html>\n",
    "    2. \\<head>\n",
    "    3. \\</head>\n",
    "    4. \\<body>\n",
    "    5.     <center>\n",
    "    6.        <h1>Ju1ie\n",
    "    7.     </center>\n",
    "    8.     I am a computer science major, a member of the Jazz club, and I hope to work as a mobile app developer after I graduate.\n",
    "    9.     </bodY>\n",
    "    10. \\</html>\n",
    "12. Average Steps Taken<br>A Personal Fitness Tracker is a wearable device that tracks your physical activity, calories burned, heart rate, sleeping patterns, and so on. One common physical activity that most of these devices track is the number of steps you take each day.If you have downloaded this book’s source code from the Computer Science Portal, you will find a file named steps.txt in the Chapter 06 folder. (The Computer Science Portal can be found at www.pearsonhighered.com/gaddis.) The steps.txt file contains the number of steps a person has taken each day for a year. There are 365 lines in the file, and each line contains the number of steps taken during a day. (The first line is the number of steps taken on January 1st, the second line is the number of steps taken on January 2nd, and so forth.) Write a program that reads the file, then displays the average number of steps taken for each month. (The data is from a year that was not a leap year, so February has 28 days.)"
   ]
  },
  {
   "cell_type": "markdown",
   "id": "e7efb586-8dcd-4f79-ae62-1dec928f1c9a",
   "metadata": {},
   "source": [
    "# AW 01: \n",
    "Write a program that opens an output file with the filename my_name.txt, writes your name to the file, then closes the file."
   ]
  },
  {
   "cell_type": "code",
   "execution_count": null,
   "id": "4f097665-20e4-48e9-8db8-8e7ca2a9a806",
   "metadata": {},
   "outputs": [],
   "source": []
  },
  {
   "cell_type": "markdown",
   "id": "54b5e308-553a-482c-a2ba-faf3fc093394",
   "metadata": {},
   "source": [
    "# AW 02: \n",
    "Write a program that opens the my_name.txt file that was created by the program in problem 1, reads your name from the file, displays the name on the screen, then closes the file."
   ]
  },
  {
   "cell_type": "code",
   "execution_count": null,
   "id": "adae8746-a639-4110-902b-cbcb7503972c",
   "metadata": {},
   "outputs": [],
   "source": []
  },
  {
   "cell_type": "markdown",
   "id": "949ddc82-1e41-4cbc-80bf-77749399b2a5",
   "metadata": {},
   "source": [
    "# PE 01: File Display\n",
    "Assume a file containing a series of integers is named numbers.txt and exists on the computer’s disk. Write a program that displays all of the numbers in the file."
   ]
  },
  {
   "cell_type": "code",
   "execution_count": null,
   "id": "78643970-6d9a-4f72-af91-9a3801cb5da4",
   "metadata": {},
   "outputs": [],
   "source": []
  },
  {
   "cell_type": "markdown",
   "id": "59293343-09b9-445b-a07d-0ca60c23d400",
   "metadata": {},
   "source": [
    "# PE 06: Average of Numbers\n",
    "Assume a file containing a series of integers is named numbers.txt and exists on the computer’s disk. Write a program that calculates the average of all the numbers stored in the file."
   ]
  },
  {
   "cell_type": "code",
   "execution_count": null,
   "id": "b5ef6e4d-97bc-4a32-aaf7-8a6de013a3ed",
   "metadata": {},
   "outputs": [],
   "source": []
  },
  {
   "cell_type": "markdown",
   "id": "dfc8b3e7-79db-4a78-8afe-1c4b90b97ae1",
   "metadata": {},
   "source": [
    "# PE 09: Exception Handing\n",
    "Modify the program that you wrote for Exercise 6 so it handles the following exceptions:\n",
    "    - It should handle any IOError exceptions that are raised when the file is opened and data is read from it.\n",
    "    - It should handle any ValueError exceptions that are raised when the items that are read from the file are converted to a number."
   ]
  },
  {
   "cell_type": "code",
   "execution_count": null,
   "id": "5a3119ae-fca5-4373-89a8-6248133dbce2",
   "metadata": {},
   "outputs": [],
   "source": []
  },
  {
   "cell_type": "markdown",
   "id": "dc1389a9-4410-4f32-bcd3-9f8b5755946a",
   "metadata": {
    "tags": []
   },
   "source": [
    "# PE 10: Exception Handing\n",
    "Modify the program that you wrote for Exercise 6 so it handles the following exceptions:\n",
    "    - It should handle any IOError exceptions that are raised when the file is opened and data is read from it.\n",
    "    - It should handle any ValueError exceptions that are raised when the items that are read from the file are converted to a number."
   ]
  },
  {
   "cell_type": "code",
   "execution_count": null,
   "id": "08a8a989-8d03-4810-93ab-6005737e5926",
   "metadata": {},
   "outputs": [],
   "source": []
  }
 ],
 "metadata": {
  "kernelspec": {
   "display_name": "Python 3 (ipykernel)",
   "language": "python",
   "name": "python3"
  },
  "language_info": {
   "codemirror_mode": {
    "name": "ipython",
    "version": 3
   },
   "file_extension": ".py",
   "mimetype": "text/x-python",
   "name": "python",
   "nbconvert_exporter": "python",
   "pygments_lexer": "ipython3",
   "version": "3.10.9"
  }
 },
 "nbformat": 4,
 "nbformat_minor": 5
}
