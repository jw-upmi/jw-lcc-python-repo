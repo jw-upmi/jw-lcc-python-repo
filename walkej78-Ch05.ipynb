{
 "cells": [
  {
   "cell_type": "markdown",
   "id": "0370c779-45a7-43d3-bc5e-d8e36585f853",
   "metadata": {},
   "source": [
    "# Ch 05 Exercises\n",
    "\n",
    "Please complete SIX questions from Chapter 5 of your textbook using a Jupyter Notebook or VS Code (paired with frequent commits to GitHub) or Google Colaboratory (paired with cells that build up solutions iteratively). Alternatively, students may also record their work using SnagIt to demonstrate the iterative process.\n",
    "\n",
    "If you use ChatGPT to help with any step, please include information describing how it helped you. Of note, you may use ChatGPT to troubleshoot code that isn't working to come up with a functioning solution, but I want to see evidence of attempts by you to get something started on your own.\n",
    "\n",
    "## Algorithm Workbench (Any Two Questions)\n",
    "## Programming Exercises (Four Questions)\n",
    "Question 1\n",
    "Question entitled \"Prime Numbers\" (Question 16 in some editions and Question 17 in other editions)\n",
    "Question entitled \"Prime Number List\" (Question 17 in some editions and Question 18 in other editions)\n",
    "Choose any other problem from the Chapter 5 Programming Exercises."
   ]
  },
  {
   "cell_type": "markdown",
   "id": "3f834be9-3dc8-4713-a30a-f5262d160743",
   "metadata": {},
   "source": [
    "## AW Q.01\n",
    "Write a function named times_ten. The function should accept an argument and display the product of its argument multiplied times 10."
   ]
  },
  {
   "cell_type": "code",
   "execution_count": null,
   "id": "4252dae9-e359-4d41-b6e0-d1200f223013",
   "metadata": {},
   "outputs": [],
   "source": [
    "# define time_ten function\n",
    "def times_ten():\n",
    "    # prompt for any number\n",
    "    num = float(input('Input a number to multiple with 10: '))\n",
    "    # multiply num by 10 to rpduce a product\n",
    "    product = (num * 10)\n",
    "    # print the results of num and product in human readable format\n",
    "    print(f'The product of {num} times 10 is {product}.')"
   ]
  },
  {
   "cell_type": "code",
   "execution_count": 1,
   "id": "4afe9869-781d-4574-9e2c-b3f78eb109b3",
   "metadata": {
    "tags": []
   },
   "outputs": [
    {
     "name": "stdin",
     "output_type": "stream",
     "text": [
      "Input a number to multiple with 10:  3.14\n"
     ]
    },
    {
     "name": "stdout",
     "output_type": "stream",
     "text": [
      "The product of 3.14 times 10 is 31.400000000000002.\n"
     ]
    }
   ],
   "source": [
    "#create program to test times_ten\n",
    "def main():\n",
    "    #call times_ten\n",
    "    times_ten()\n",
    "    \n",
    "# define time_ten function\n",
    "def times_ten():\n",
    "    # prompt for any number\n",
    "    num = float(input('Input a number to multiple with 10: '))\n",
    "    # multiply num by 10 to rpduce a product\n",
    "    product = (num * 10)\n",
    "    # print the results of num and product in human readable format\n",
    "    print(f'The product of {num} times 10 is {product}.')\n",
    "    \n",
    "#call main\n",
    "main()"
   ]
  },
  {
   "cell_type": "markdown",
   "id": "88c1aee2-0e3c-4f4c-8b11-f434d84c92ac",
   "metadata": {},
   "source": [
    "## AW Q.04 \n",
    "What will the following program display?\n",
    "                  \n",
    "                  def main():\n",
    "                    x = 1\n",
    "                    y = 3.4\n",
    "                    print(x, y)\n",
    "                    change_us(x, y)\n",
    "                    print(x, y)\n",
    "                    \n",
    "                  def change_us(a, b):\n",
    "                    a = 0\n",
    "                    b = 0\n",
    "                    print(a, b)\n",
    "                    \n",
    "                  main()"
   ]
  },
  {
   "cell_type": "markdown",
   "id": "5fc58aac-db48-4a24-b013-20c018f3a41b",
   "metadata": {},
   "source": [
    "main prints x,y; change prints a,b; and main prints x,y again:\n",
    "1 3.4\n",
    "0 0\n",
    "1 3.4"
   ]
  },
  {
   "cell_type": "code",
   "execution_count": 3,
   "id": "74e5c625-4cce-4610-a089-772987e8c4c9",
   "metadata": {
    "tags": []
   },
   "outputs": [
    {
     "name": "stdout",
     "output_type": "stream",
     "text": [
      "1 3.4\n",
      "0 0\n",
      "1 3.4\n"
     ]
    }
   ],
   "source": [
    "def main():\n",
    "    x = 1\n",
    "    y = 3.4\n",
    "    print(x, y)\n",
    "    change_us(x, y)\n",
    "    print(x, y)\n",
    "\n",
    "def change_us(a, b):\n",
    "    a = 0\n",
    "    b = 0\n",
    "    print(a, b)\n",
    "\n",
    "main()"
   ]
  },
  {
   "cell_type": "markdown",
   "id": "15e60970-fb85-48cb-974b-e8d6068b5600",
   "metadata": {},
   "source": [
    "## PE Q.01. Kilometer Converter\n",
    "Write a program that asks the user to enter a distance in kilometers, then converts that distance to miles. The conversion formula is as follows:\n",
    "<br>[Miles = Kilometers x 0.6214]"
   ]
  },
  {
   "cell_type": "code",
   "execution_count": 6,
   "id": "02193dc0-00df-4a46-8a04-adbecc41a56b",
   "metadata": {
    "tags": []
   },
   "outputs": [
    {
     "name": "stdin",
     "output_type": "stream",
     "text": [
      "What is the distance you are traveling in kilometers?  314\n"
     ]
    },
    {
     "name": "stdout",
     "output_type": "stream",
     "text": [
      "314.0 km is 195.12 miles\n"
     ]
    }
   ],
   "source": [
    "# deine main\n",
    "def main():\n",
    "    # prompt for input in km as a float\n",
    "    prompt = float(input('What is the distance you are traveling in kilometers? '))\n",
    "    # call km_to_miles to covnert km to mi\n",
    "    result = km_to_miles(prompt)\n",
    "    # print results in human readable format\n",
    "    print(f'{prompt} km is {result} miles')\n",
    "\n",
    "# define converter\n",
    "def km_to_miles(km):\n",
    "    # miles = km * 0.6214 and round to 2 decimal points for clarity and usefullness\n",
    "    miles = round(float(km * 0.6214),2)\n",
    "    #return miles\n",
    "    return miles\n",
    "\n",
    "# call main\n",
    "main()"
   ]
  },
  {
   "cell_type": "markdown",
   "id": "b55b09b3-2104-4024-b996-29f4bc85953d",
   "metadata": {},
   "source": [
    "## PE Q.17. Prime Numbers\n",
    "\n",
    "A prime number is a number that is only evenly divisible by itself and 1. For example, the number 5 is prime because it can only be evenly divided by 1 and 5. The number 6, however, is not prime because it can be divided evenly by 1, 2, 3, and 6.\n",
    "\n",
    "Write a Boolean function named is_prime which takes an integer as an argument and returns true if the argument is a prime number, or false otherwise. Use the function in a program that prompts the user to enter a number then displays a message indicating whether the number is prime.\n",
    "\n",
    "### TIP\n",
    "Recall that the % operator divides one number by another and returns the remainder of the division. In an expression such as num1 % num2, the % operator will return 0 if num1 is evenly divisible by num2."
   ]
  },
  {
   "cell_type": "markdown",
   "id": "1bd2cc2c-6be9-4ed8-a4fb-26e56113b0a3",
   "metadata": {},
   "source": [
    "I'm not great at math but I think the only way to be sure a number is a prime is a) ensure the number is >= 1; and b) devide the number by every number between 1 and the num and check to see if there is a remainder.  So I am going to approach this by writing a for loop."
   ]
  },
  {
   "cell_type": "code",
   "execution_count": 7,
   "id": "7e8fe11e-3020-4709-8be7-603fc1804e37",
   "metadata": {
    "tags": []
   },
   "outputs": [
    {
     "name": "stdin",
     "output_type": "stream",
     "text": [
      "Input a positive, whole number to test and see if it is a prime number:  10\n"
     ]
    },
    {
     "ename": "NameError",
     "evalue": "name 'fales' is not defined",
     "output_type": "error",
     "traceback": [
      "\u001b[1;31m---------------------------------------------------------------------------\u001b[0m",
      "\u001b[1;31mNameError\u001b[0m                                 Traceback (most recent call last)",
      "Cell \u001b[1;32mIn[7], line 10\u001b[0m\n\u001b[0;32m      7\u001b[0m \u001b[38;5;28;01mfor\u001b[39;00m n \u001b[38;5;129;01min\u001b[39;00m \u001b[38;5;28mrange\u001b[39m(\u001b[38;5;241m1\u001b[39m, num):\n\u001b[0;32m      8\u001b[0m     \u001b[38;5;66;03m# divide num by n and check remainder\u001b[39;00m\n\u001b[0;32m      9\u001b[0m     \u001b[38;5;28;01mif\u001b[39;00m (num \u001b[38;5;241m%\u001b[39m n) \u001b[38;5;241m==\u001b[39m \u001b[38;5;241m0\u001b[39m:\n\u001b[1;32m---> 10\u001b[0m         \u001b[43mfales\u001b[49m\n\u001b[0;32m     11\u001b[0m     \u001b[38;5;28;01melse\u001b[39;00m:\n\u001b[0;32m     12\u001b[0m         true\n",
      "\u001b[1;31mNameError\u001b[0m: name 'fales' is not defined"
     ]
    }
   ],
   "source": [
    "# practice program\n",
    "# prompt for a number\n",
    "num = int(input('Input a positive, whole number to test and see if it is a prime number: '))\n",
    "# test to ensure number is >= 1\n",
    "if num >= 1:\n",
    "    # for loop\n",
    "    for n in range(1, num):\n",
    "        # divide num by n and check remainder\n",
    "        if (num % n) == 0:\n",
    "            false\n",
    "        else:\n",
    "            true\n",
    "else:\n",
    "    print(f'INVALID INPUT: {num} is not a positive, whole number')"
   ]
  },
  {
   "cell_type": "markdown",
   "id": "6016cf4a-5cf1-4594-9bd1-58c6481f5d25",
   "metadata": {},
   "source": [
    "## PE Q.18. Prime Number List\n",
    "This exercise assumes that you have already written the is_prime function in Programming Exercise 17. Write another program that displays all of the prime numbers from 1 to 100. The program should have a loop that calls the is_prime function."
   ]
  },
  {
   "cell_type": "code",
   "execution_count": null,
   "id": "6f6a2ce1-aa51-4497-89f3-d577a7232593",
   "metadata": {},
   "outputs": [],
   "source": []
  },
  {
   "cell_type": "markdown",
   "id": "95e94832-a737-4e84-a3c3-629660ca8251",
   "metadata": {},
   "source": [
    "## PE Q.20. Random Number Guessing Game\n",
    "Write a program that generates a random number in the range of 1 through 100, and asks the user to guess what the number is. If the user’s guess is higher than the random number, the program should display “Too high, try again.” If the user’s guess is lower than the random number, the program should display “Too low, try again.” If the user guesses the number, the application should congratulate the user and generate a new random number so the game can start over.\n",
    "\n",
    "<i>Optional Enhancement: Enhance the game so it keeps count of the number of guesses that the user makes. When the user correctly guesses the random number, the program should display the number of guesses."
   ]
  },
  {
   "cell_type": "code",
   "execution_count": null,
   "id": "e6ed53d5-8d47-44c4-b83c-d866a23ad245",
   "metadata": {},
   "outputs": [],
   "source": []
  }
 ],
 "metadata": {
  "kernelspec": {
   "display_name": "Python 3 (ipykernel)",
   "language": "python",
   "name": "python3"
  },
  "language_info": {
   "codemirror_mode": {
    "name": "ipython",
    "version": 3
   },
   "file_extension": ".py",
   "mimetype": "text/x-python",
   "name": "python",
   "nbconvert_exporter": "python",
   "pygments_lexer": "ipython3",
   "version": "3.10.9"
  }
 },
 "nbformat": 4,
 "nbformat_minor": 5
}
