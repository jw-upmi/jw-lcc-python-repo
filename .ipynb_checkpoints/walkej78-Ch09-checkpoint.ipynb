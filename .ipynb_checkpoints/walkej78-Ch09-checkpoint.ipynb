{
 "cells": [
  {
   "cell_type": "markdown",
   "id": "25cbd50a-88c8-49f2-a1df-386721aa0044",
   "metadata": {},
   "source": [
    "# Chapter 09 Exercises"
   ]
  },
  {
   "cell_type": "markdown",
   "id": "65ab3315-2a66-4a7f-aa37-d791aca9d552",
   "metadata": {},
   "source": [
    "## Complete Two PE\n",
    "Please complete TWO questions from the Programming Exercises section of Chapter 9 of your textbook using a Jupyter Notebook or VS Code (paired with frequent commits to GitHub) or Google Colaboratory (paired with cells that build up solutions iteratively or access to your revision history). There are fewer problems, but you have more components that must be included with each solution.\n",
    "\n",
    "In preparation for the practical component of your final exam, students must also complete the following additional components for each solution:\n",
    "1. Screen record your coding work using SnagIt to demonstrate the iterative process. The recording should include audio that walks through your thoughts as you craft a solution. This component of your grade will be reflected in your iteration grade in the rubric. Of note, you are not required to record the creation of your diagram, though you may.\n",
    "2. Create and leverage at least one custom module for each solution. This component of your grade will be reflected in your functionality grades in the rubric.\n",
    "3. Create at least one diagram (either a flowchart or a hierarchy chart) for each solution. that details aspects of your solution. This component will be reflected in your explanation grade in the rubric.\n",
    "4. Remember, all solutions should include a main function that starts execution.\n",
    "\n",
    "If you use ChatGPT to help with any step, please include information describing how it helped you. Of note, you may use ChatGPT to troubleshoot code that isn't working to come up with a functioning solution, but I want to see evidence of attempts by you to get something started on your own. Additionally, I want to see evidence of you refining any AI-generated solutions to better meet the specific needs of our assignment."
   ]
  },
  {
   "cell_type": "markdown",
   "id": "1743711f-85ae-4a46-98fd-4da3a67c3ddc",
   "metadata": {},
   "source": []
  }
 ],
 "metadata": {
  "kernelspec": {
   "display_name": "Python 3 (ipykernel)",
   "language": "python",
   "name": "python3"
  },
  "language_info": {
   "codemirror_mode": {
    "name": "ipython",
    "version": 3
   },
   "file_extension": ".py",
   "mimetype": "text/x-python",
   "name": "python",
   "nbconvert_exporter": "python",
   "pygments_lexer": "ipython3",
   "version": "3.10.9"
  },
  "widgets": {
   "application/vnd.jupyter.widget-state+json": {
    "state": {},
    "version_major": 2,
    "version_minor": 0
   }
  }
 },
 "nbformat": 4,
 "nbformat_minor": 5
}
