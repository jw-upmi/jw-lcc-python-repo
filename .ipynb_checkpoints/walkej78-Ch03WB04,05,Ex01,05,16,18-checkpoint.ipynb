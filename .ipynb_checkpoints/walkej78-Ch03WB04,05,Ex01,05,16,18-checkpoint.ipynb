{
 "cells": [
  {
   "cell_type": "markdown",
   "metadata": {
    "id": "tE0Mbul4ZCH5"
   },
   "source": [
    "# Coding Set 3\n",
    "\n",
    "# Exercises\n",
    "Please complete SIX questions from Chapter 3 of your textbook using a Jupyter Notebook or Google Colaboratory.\n",
    "\n",
    "## Algorithm Workbench (Two Questions)\n",
    "Question 4\n",
    "Question 5\n",
    "## Programming Exercises (Four Questions)\n",
    "  Question 1\n",
    "  Question 5\n",
    "  Choose any **TWO** of the following  Questions:\n",
    "    Question 15\n",
    "    Question 16\n",
    "    Question 17\n",
    "    Question 18\n",
    "\n",
    "**Note**: There is some variance in the textbook editions in terms of what questions 15, 16, 17, and 18 represent. Use the version presented in your textbook, and your instructor will use this context to grade your work. The problems are all of similar levels of difficulty.\n",
    "\n",
    "# Work Expectations\n",
    "  You are graded on the following criteria:\n",
    "\n",
    "## Comments and names\n",
    "  All code should be commented to clearly state intentions, and names should help convey intentions/use, too.\n",
    "## Iteration\n",
    "  Show the steps you use to get to the final solution. You may either use multiple cells or GitHub to show iterations of work, or you may record your work with Snagit to show your iterating.\n",
    "## Explanation\n",
    "  Explain how you get to the final solution and why you made the choices you did. You may either document your explanation, annotate screenshots, or screen record your explanation. If you use information from outside sources, please include links to the resources you referenced.\n",
    "## Functionality\n",
    "  You should always include a cell that executes your code and shows the expected results.\n",
    "## Engagement\n",
    "  Post your work early enough so others can comment on it, and comment on the submission of another student showing what you learned from their work or helping them with their submission."
   ]
  },
  {
   "cell_type": "markdown",
   "metadata": {
    "id": "am4p2LMMZjAZ"
   },
   "source": [
    "# Algorithm Workbench\n",
    "## Q4. The following code contains several nested if-else statements. Unfortunately, it was written without proper alignment and indentation. Rewrite the code and use the proper conventions of alignment and indentation. \n",
    "                \n",
    "    if score >= A score:\n",
    "    print('Your grade is A.')\n",
    "    else:\n",
    "    if score >= B_score:\n",
    "    print('Your grade is B.')\n",
    "    else:\n",
    "    if score >= C_score:\n",
    "    print('Your grade is C.')\n",
    "    else:\n",
    "    if score >= D_score:\n",
    "    print('Your grade is D.')\n",
    "    else:\n",
    "    print('Your grade is F.') \n"
   ]
  },
  {
   "cell_type": "code",
   "execution_count": null,
   "metadata": {
    "id": "JasDY1rMZv1y"
   },
   "outputs": [],
   "source": [
    "if score >= A_score:\n",
    "    print('Your grade is A.')\n",
    "else:\n",
    "    if score >= B_score:\n",
    "        print('Your grade is B.')\n",
    "    else:\n",
    "        if score >= C_score:\n",
    "            print('Your grade is C.')\n",
    "        else:\n",
    "            if score >= D_score:\n",
    "                print('Your grade is D.')\n",
    "            else:\n",
    "                print('Your grade is F.')"
   ]
  },
  {
   "cell_type": "markdown",
   "metadata": {
    "id": "g1-HtrIPZwWW"
   },
   "source": [
    "## Q5. Write nested decision structures that perform the following: If **amount1** is greater than 10 and **amount2** is less than 100, display the greater of **amount1** and **amount2**.\n"
   ]
  },
  {
   "cell_type": "code",
   "execution_count": null,
   "metadata": {
    "id": "1QxFzj4bZ0pp"
   },
   "outputs": [],
   "source": [
    "# Added a graphic decision structure in Discussion.\n",
    "if amount1 > 10:\n",
    "    if amount2 < 100:\n",
    "        if amount1 > amount2:\n",
    "            print(amount1)\n",
    "        else:\n",
    "            print(amount2)\n",
    "            # if amount1 is not greater than amount2, amount2 is greater than or equal to amount1.\n",
    "            # I could have added another set of logic by adding another if-else statement to test\n",
    "            # for equal but this seemed unnecessary for the objective."
   ]
  },
  {
   "cell_type": "markdown",
   "metadata": {
    "id": "FWvJl4ylZ08Z"
   },
   "source": [
    "# Programming Exercises\n",
    "## Q1. Day of the Week\n",
    "Write a program that asks the user for a number in the range of 1 through 7. The program should display the corresponding day of the week, where 1 = Monday, 2 = Tuesday, 3 = Wednesday, 4 = Thursday, 5 = Friday, 6 = Saturday, and 7 = Sunday. The program should display an error message if the user enters a number that is outside the range of 1 through 7."
   ]
  },
  {
   "cell_type": "code",
   "execution_count": 60,
   "metadata": {
    "colab": {
     "base_uri": "https://localhost:8080/"
    },
    "executionInfo": {
     "elapsed": 1064,
     "status": "ok",
     "timestamp": 1685590455690,
     "user": {
      "displayName": "Jonathan Walker",
      "userId": "09742938676759773978"
     },
     "user_tz": 240
    },
    "id": "zFP1Bbd5Z8AL",
    "outputId": "4613b627-047b-455c-e5c6-0a930425ffeb"
   },
   "outputs": [
    {
     "name": "stdout",
     "output_type": "stream",
     "text": [
      "#####################\n",
      "## DAY OF THE WEEK ##\n",
      "#####################\n",
      "\n",
      "Monday is the first day of the week and is represented by the number 1.\n",
      "Tuesday is the second day of the week and is represented by the number 2.\n",
      "Wednesday is the third day of the week and is represented by the number 3.\n",
      "Thursday is the fourth day of the week and is represented by the number 4.\n",
      "Friday is the fifth day of the week and is represented by the number 5.\n",
      "Saturday is the sixth day of the week and is represented by the number 6.\n",
      "Sunday is the seven day of the week and is represented by the number 7.\n",
      "\n",
      "Please enter the day of the week as a number: 3\n",
      "You entered 3 for Wednesday.\n"
     ]
    }
   ],
   "source": [
    "print('#####################')\n",
    "print('## DAY OF THE WEEK ##')\n",
    "print('#####################')\n",
    "# print day of the week and corresponding number -- not all calendars begin with 1 = Mon!\n",
    "print('''\\nMonday is the first day of the week and is represented by the number 1.\\n\\\n",
    "Likewise, Tuesday is 2, Wednesday is 3. Thursday is 4, Friday is 5, Saturday is 6,\\n\\\n",
    "and Sunday is 7.''')\n",
    "# prompt user for the day of the week\n",
    "dayOfWeek = int(input('\\nPlease enter the day of the week as a number: '))\n",
    "if dayOfWeek == 1:                    \t# logic test if 1 then Mon\n",
    "    print('You entered 1 for Monday.')\t\t# print is Mon\n",
    "elif dayOfWeek == 2:                 \t\t# logic test if 2 then Tues\n",
    "    print('You entered 2 for Tuesday.')\t\t# print is Tues\n",
    "elif dayOfWeek == 3:               \t\t\t# logic test if 3 then Wed\n",
    "    print('You entered 3 for Wednesday.')  # print is Wed\n",
    "elif dayOfWeek == 4:             \t\t  \t# logic test if 4 then Thur\n",
    "    print('You entered 4 for Thursday.')  # print is Thur\n",
    "elif dayOfWeek == 5:         \t\t\t\t    # logic test if 5 then Fri\n",
    "    print('You entered 5 for Friday.')\t\t# print is Fri\n",
    "elif dayOfWeek == 6:     \t\t\t\t\t      # logic test if 6 then Sat\n",
    "    print('You entered 6 for Saturday.')  # print is Sat\n",
    "elif dayOfWeek == 7: \t\t\t\t\t\t        # logic test if 7 then Sun\n",
    "    print('You entered 7 for Sunday.')\t\t# print is Sun\n",
    "else:\t\t\t\t\t\t\t\t\t\t                # if above is false, then ...\n",
    "    # print catchall, invalid input.\n",
    "    print('You entered an invalid input.  Please only enter 1, 2, 3, 4, 5, 6, or 7.')"
   ]
  },
  {
   "cell_type": "markdown",
   "metadata": {
    "id": "CfPUoq0WZ8Wf"
   },
   "source": [
    "## Q5. Mass and Weight\n",
    "Scientists measure an object’s mass in kilograms and its weight in newtons. If you know the amount of mass of an object in kilograms, you can calculate its weight in newtons with the following formula:\n",
    "\n",
    "    weight = mass x 9.8\n",
    "\n",
    "Write a program that asks the user to enter an object’s mass, then calculates its weight. If the object weighs more than 500 newtons, display a message indicating that it is too heavy. If the object weighs less than 100 newtons, display a message indicating that it is too light."
   ]
  },
  {
   "cell_type": "code",
   "execution_count": 40,
   "metadata": {
    "colab": {
     "base_uri": "https://localhost:8080/"
    },
    "executionInfo": {
     "elapsed": 1724,
     "status": "ok",
     "timestamp": 1685587656986,
     "user": {
      "displayName": "Jonathan Walker",
      "userId": "09742938676759773978"
     },
     "user_tz": 240
    },
    "id": "IK8eeJZ0Z-ck",
    "outputId": "e65d80c5-baf1-4071-9362-14ed8ca37b20"
   },
   "outputs": [
    {
     "name": "stdout",
     "output_type": "stream",
     "text": [
      "###############################\n",
      "## WEIGHT TO MASS CONVERSION ##\n",
      "###############################\n",
      "\n",
      "The weight of an object in kilograms (kg) is equal to its mass in newtons (N) times 9.8.\n",
      "\n",
      "To find the mass of an object, input its weight in kilograms: 4\n",
      "4.0 kg equals 0.4082 N.\n"
     ]
    }
   ],
   "source": [
    "print('###############################')\n",
    "print('## WEIGHT TO MASS CONVERSION ##')\n",
    "print('###############################')\n",
    "# state formula\n",
    "print('\\nThe weight of an object in kilograms (kg) is equal to its mass in newtons (N) times 9.8.')\n",
    "# prompt user for weight in kg\n",
    "weightKg = float(\n",
    "    input('\\nTo find the mass of an object, input its weight in kilograms: '))\n",
    "massN = (weightKg / 9.8)                        # convert kg to N\n",
    "massNRound = round(massN, 4)                    # round N to 4th decimal place\n",
    "# print weight in kg and mass in N rounded to 4th decimal place\n",
    "print(f'{weightKg} kg equals {massNRound} N.')"
   ]
  },
  {
   "cell_type": "markdown",
   "metadata": {
    "id": "3G1Ht8T6Z-5l"
   },
   "source": [
    "## Q16. February Days\n",
    "The month of February normally has 28 days. But if it is a leap year, February has 29 days. Write a program that asks the user to enter a year. The program should then display the number of days in February that year. Use the following criteria to identify leap years:\n",
    "\n",
    "1.   Determine whether the year is divisible by 100. If it is, then it is a leap year if and only if it is also divisible by 400. For example, 2000 is a leap year, but 2100 is not.\n",
    "2.   If the year is not divisible by 100, then it is a leap year if and only if it is divisible by 4. For example, 2008 is a leap year, but 2009 is not.\n",
    "\n",
    "Here is a sample run of the program:\n",
    "\n",
    "    Enter a year: 2008 [Enter]\n",
    "    In 2008 February has 29 days."
   ]
  },
  {
   "cell_type": "code",
   "execution_count": 41,
   "metadata": {
    "colab": {
     "base_uri": "https://localhost:8080/"
    },
    "executionInfo": {
     "elapsed": 1739,
     "status": "ok",
     "timestamp": 1685587663617,
     "user": {
      "displayName": "Jonathan Walker",
      "userId": "09742938676759773978"
     },
     "user_tz": 240
    },
    "id": "WHQIbIUaaA4T",
    "outputId": "1d7470ab-93f7-4c0a-dace-fb5a136cede3"
   },
   "outputs": [
    {
     "name": "stdout",
     "output_type": "stream",
     "text": [
      "##########################\n",
      "## LEAP YEAR CALCULATOR ##\n",
      "##########################\n",
      "\n",
      "Enter the year to find out if it is a leap year: 2007\n",
      "2007 is not a leap year.\n"
     ]
    }
   ],
   "source": [
    "print('##########################')\n",
    "print('## LEAP YEAR CALCULATOR ##')\n",
    "print('##########################')\n",
    "# prompt user for year input\n",
    "year = int(input('\\nEnter the year to find out if it is a leap year: '))\n",
    "if ((year % 100 == 0) and (year % 400 == 0)):  # test if evenly divisible by 100 and 400\n",
    "    print(f'{year} is a leap year.')            # print leap year\n",
    "# test if not evenly divisible by 100 but even divisible by 4\n",
    "elif ((year % 100 != 0) and (year % 4 == 0)):\n",
    "    print(f'{year} is a leap year.')            # print leap year\n",
    "else:                                         # if above is false, then ...\n",
    "    print(f'{year} is not a leap year.')        # print catchall, not leap year"
   ]
  },
  {
   "cell_type": "markdown",
   "metadata": {
    "id": "9Zq5hvK9aBdz"
   },
   "source": [
    "## Q18. Restaurant Selector\n",
    "You have a group of friends coming to visit for your high school reunion, and you want to take them out to eat at a local restaurant. You aren’t sure if any of them have dietary restrictions, but your restaurant choices are as follows:\n",
    "\n",
    "    Joe's Gourmet Burgers -- Vegetarian:  No, Vegan:  No, Gluten -- Free:  No   \n",
    "    Main Street Pizza Company -- Vegetarian:  Yes, Vegan:  No, Gluten -- Free:  Yes   \n",
    "    Corner Cafe -- Vegetarian:  Yes, Vegan:  Yes, Gluten -- Free:  Yes   \n",
    "    Mama single quote s Fine Italian -- Vegetarian:  Yes, Vegan:  No, Gluten -- Free:  No   \n",
    "    The Chef's Kitchen -- Vegetarian:  Yes, Vegan:  Yes, Gluten -- Free:  Yes   \n",
    "          \n",
    "  Write a program that asks whether any members of your party are vegetarian, vegan, or gluten-free, to which then displays only the restaurants to which you may take the group. Here is an example of the program's output:\n",
    "\n",
    "      Is anyone in your party a vegetarian? yes \n",
    "      Is anyone in your party a vegan? no \n",
    "      Is anyone in your party gluten-free? yes \n",
    "      Here are your restaurant choices:\n",
    "        Main Street Pizza Company\n",
    "        Corner Cafe\n",
    "        The Chef's Kitchen\n",
    "  \n",
    "  Here is another example of the program's output:\n",
    "  \n",
    "      Is anyone in your party a vegetarian? yes \n",
    "      Is anyone in your party a vegan? yes \n",
    "      Is anyone in your party gluten-free? yes \n",
    "      Here are your restaurant choices:\n",
    "        Corner Cafe\n",
    "        The Chef's Kitchen"
   ]
  },
  {
   "cell_type": "code",
   "execution_count": 1,
   "metadata": {
    "colab": {
     "base_uri": "https://localhost:8080/"
    },
    "executionInfo": {
     "elapsed": 4241,
     "status": "ok",
     "timestamp": 1685589255382,
     "user": {
      "displayName": "Jonathan Walker",
      "userId": "09742938676759773978"
     },
     "user_tz": 240
    },
    "id": "4cqDtOWnaEzl",
    "outputId": "d64b2078-df3e-4fff-bf03-301aab4f64b3"
   },
   "outputs": [
    {
     "name": "stdout",
     "output_type": "stream",
     "text": [
      "#########################\n",
      "## RESTAURANT SELECTOR ##\n",
      "#########################\n"
     ]
    },
    {
     "name": "stdin",
     "output_type": "stream",
     "text": [
      "Is anyone in your party a vegetarian? (y/n)  y\n",
      "Is anyone in your party a vegan? (y/n)  n\n",
      "Is anyone in your party gluten-free? (y/n)  n\n"
     ]
    },
    {
     "name": "stdout",
     "output_type": "stream",
     "text": [
      "\n",
      "Here are your restaurant choices:\n",
      "\tMain Street Pizza Company\n",
      "\tCorner Cafe\n",
      "\tMama's Fine Italian\n",
      "\tThe Chef's Kitchen\n"
     ]
    }
   ],
   "source": [
    "print('#########################')\n",
    "print('## RESTAURANT SELECTOR ##')\n",
    "print('#########################')\n",
    "# prompt user if any vegetarians (vege).  .lower() will convert alpha to lowercase. .strip() will remove leading or ending spaces.\n",
    "vegetarian = input('Is anyone in your party a vegetarian? (y/n) ').lower().strip()\n",
    "# prompt user if any vegans.\n",
    "vegan = input('Is anyone in your party a vegan? (y/n) ').lower().strip()\n",
    "# prompt user if any gf.\n",
    "gf = input('Is anyone in your party gluten-free? (y/n) ').lower().strip()\n",
    "# print list of compatible restaurants without using list conditions. Joe\\'s Gourmet Burgers [,,,]; Main Street Pizza Company [Vegetarian,,GF]; Corner Cafe -- Vegetarian [,,Vegan,GF]; Mama's Fine Italian [Vegetarian,,]; The Chef's Kitchen [Vegetarian,Vegan,GF]\n",
    "print('\\nHere are your restaurant choices:')\n",
    "if vegetarian[0] == 'y' and vegan[0] == 'y' and gf[0] == 'y':   # test for vege, vegan, and gf. [0] will only use the first character of the variable -- if 'yes' was entered instead of 'y', [0] will select the first character of 'y'.\n",
    "    print('\\tCorner Cafe\\n\\tThe Chef\\'s Kitchen')       # print compatible\n",
    "elif vegetarian[0] == 'y' and vegan[0] == 'n' and gf[0] == 'n':  # test for only vege\n",
    "    # print compatible\n",
    "    print('\\tMain Street Pizza Company\\n\\tCorner Cafe\\n\\tMama\\'s Fine Italian\\n\\tThe Chef\\'s Kitchen')\n",
    "elif vegetarian[0] == 'y' and vegan[0] == 'y' and gf[0] == 'n':  # test for vege and vegan\n",
    "    print('\\tCorner Cafe\\n\\tThe Chef\\'s Kitchen')       # print compatible\n",
    "elif vegetarian[0] == 'y' and vegan[0] == 'n' and gf[0] == 'y':  # test for vege and gf\n",
    "    # print compatible\n",
    "    print('\\tMain Street Pizza Company\\n\\tCorner Cafe\\n\\tThe Chef\\'s Kitchen')\n",
    "elif vegetarian[0] == 'n' and vegan[0] == 'y' and gf[0] == 'n':  # test for only vegan\n",
    "    print('\\tCorner Cafe\\n\\tThe Chef\\'s Kitchen')       # print compatible\n",
    "elif vegetarian[0] == 'n' and vegan[0] == 'y' and gf[0] == 'y':  # test for vegan and gf\n",
    "    print('\\tCorner Cafe\\n\\tThe Chef\\'s Kitchen')       # print compatible\n",
    "elif vegetarian[0] == 'n' and vegan[0] == 'n' and gf[0] == 'y':  # test for only gf\n",
    "    # print compatible\n",
    "    print('\\tMain Street Pizza Company\\n\\tCorner Cafe\\n\\tThe Chef\\'s Kitchen')\n",
    "else:                                                  # if above is false, then ...\n",
    "    # print no special conditions\n",
    "    print('\\tJoe\\'s Gourmet Burgers')"
   ]
  },
  {
   "cell_type": "code",
   "execution_count": null,
   "metadata": {},
   "outputs": [],
   "source": []
  }
 ],
 "metadata": {
  "colab": {
   "authorship_tag": "ABX9TyOLWWGpzc5kAT1E/BEHQZCR",
   "provenance": []
  },
  "kernelspec": {
   "display_name": "Python 3 (ipykernel)",
   "language": "python",
   "name": "python3"
  },
  "language_info": {
   "codemirror_mode": {
    "name": "ipython",
    "version": 3
   },
   "file_extension": ".py",
   "mimetype": "text/x-python",
   "name": "python",
   "nbconvert_exporter": "python",
   "pygments_lexer": "ipython3",
   "version": "3.11.3"
  }
 },
 "nbformat": 4,
 "nbformat_minor": 4
}
