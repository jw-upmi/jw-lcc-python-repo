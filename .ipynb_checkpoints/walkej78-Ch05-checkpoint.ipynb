{
 "cells": [
  {
   "cell_type": "markdown",
   "id": "0370c779-45a7-43d3-bc5e-d8e36585f853",
   "metadata": {},
   "source": [
    "# Ch 05 Exercises\n",
    "\n",
    "Please complete SIX questions from Chapter 5 of your textbook using a Jupyter Notebook or VS Code (paired with frequent commits to GitHub) or Google Colaboratory (paired with cells that build up solutions iteratively). Alternatively, students may also record their work using SnagIt to demonstrate the iterative process.\n",
    "\n",
    "If you use ChatGPT to help with any step, please include information describing how it helped you. Of note, you may use ChatGPT to troubleshoot code that isn't working to come up with a functioning solution, but I want to see evidence of attempts by you to get something started on your own.\n",
    "\n",
    "## Algorithm Workbench (Any Two Questions)\n",
    "## Programming Exercises (Four Questions)\n",
    "Question 1\n",
    "Question entitled \"Prime Numbers\" (Question 16 in some editions and Question 17 in other editions)\n",
    "Question entitled \"Prime Number List\" (Question 17 in some editions and Question 18 in other editions)\n",
    "Choose any other problem from the Chapter 5 Programming Exercises."
   ]
  },
  {
   "cell_type": "markdown",
   "id": "3f834be9-3dc8-4713-a30a-f5262d160743",
   "metadata": {},
   "source": [
    "## AW Q01\n",
    "Write a function named times_ten. The function should accept an argument and display the product of its argument multiplied times 10."
   ]
  },
  {
   "cell_type": "code",
   "execution_count": null,
   "id": "4252dae9-e359-4d41-b6e0-d1200f223013",
   "metadata": {},
   "outputs": [],
   "source": []
  },
  {
   "cell_type": "markdown",
   "id": "88c1aee2-0e3c-4f4c-8b11-f434d84c92ac",
   "metadata": {},
   "source": [
    "## AW Q04 \n",
    "What will the following program display?\n",
    "                  \n",
    "                  def main():\n",
    "                    x = 1\n",
    "                    y = 3.4\n",
    "                    print(x, y)\n",
    "                    change_us(x, y)\n",
    "                    print(x, y)\n",
    "                    \n",
    "                  def change_us(a, b):\n",
    "                    a = 0\n",
    "                    b = 0\n",
    "                    print(a, b)\n",
    "                    \n",
    "                  main()"
   ]
  },
  {
   "cell_type": "code",
   "execution_count": null,
   "id": "74e5c625-4cce-4610-a089-772987e8c4c9",
   "metadata": {},
   "outputs": [],
   "source": []
  },
  {
   "cell_type": "markdown",
   "id": "15e60970-fb85-48cb-974b-e8d6068b5600",
   "metadata": {},
   "source": [
    "## PE Q01\n",
    "1. Kilometer ConverterWrite a program that asks the user to enter a distance in kilometers, then converts that distance to miles. The conversion formula is as follows:\n",
    "                Miles - Kilometers x 0.6214"
   ]
  },
  {
   "cell_type": "code",
   "execution_count": null,
   "id": "02193dc0-00df-4a46-8a04-adbecc41a56b",
   "metadata": {},
   "outputs": [],
   "source": []
  },
  {
   "cell_type": "markdown",
   "id": "b55b09b3-2104-4024-b996-29f4bc85953d",
   "metadata": {},
   "source": [
    "## PE Q17. Prime Numbers\n",
    "\n",
    "A prime number is a number that is only evenly divisible by itself and 1. For example, the number 5 is prime because it can only be evenly divided by 1 and 5. The number 6, however, is not prime because it can be divided evenly by 1, 2, 3, and 6.\n",
    "\n",
    "Write a Boolean function named is_prime which takes an integer as an argument and returns true if the argument is a prime number, or false otherwise. Use the function in a program that prompts the user to enter a number then displays a message indicating whether the number is prime.\n",
    "\n",
    "### TIP\n",
    "Recall that the % operator divides one number by another and returns the remainder of the division. In an expression such as num1 % num2, the % operator will return 0 if num1 is evenly divisible by num2."
   ]
  },
  {
   "cell_type": "code",
   "execution_count": null,
   "id": "d4c0fd42-c701-4bf0-90ef-5738bbb31368",
   "metadata": {},
   "outputs": [],
   "source": []
  },
  {
   "cell_type": "markdown",
   "id": "6016cf4a-5cf1-4594-9bd1-58c6481f5d25",
   "metadata": {},
   "source": [
    "## PE Q18. Prime Number List\n",
    "This exercise assumes that you have already written the is_prime function in Programming Exercise 17. Write another program that displays all of the prime numbers from 1 to 100. The program should have a loop that calls the is_prime function."
   ]
  },
  {
   "cell_type": "code",
   "execution_count": null,
   "id": "6f6a2ce1-aa51-4497-89f3-d577a7232593",
   "metadata": {},
   "outputs": [],
   "source": []
  },
  {
   "cell_type": "markdown",
   "id": "95e94832-a737-4e84-a3c3-629660ca8251",
   "metadata": {},
   "source": [
    "## PE Q20. Random Number Guessing Game\n",
    "Write a program that generates a random number in the range of 1 through 100, and asks the user to guess what the number is. If the user’s guess is higher than the random number, the program should display “Too high, try again.” If the user’s guess is lower than the random number, the program should display “Too low, try again.” If the user guesses the number, the application should congratulate the user and generate a new random number so the game can start over.\n",
    "\n",
    "<i>Optional Enhancement: Enhance the game so it keeps count of the number of guesses that the user makes. When the user correctly guesses the random number, the program should display the number of guesses."
   ]
  },
  {
   "cell_type": "code",
   "execution_count": null,
   "id": "e6ed53d5-8d47-44c4-b83c-d866a23ad245",
   "metadata": {},
   "outputs": [],
   "source": []
  }
 ],
 "metadata": {
  "kernelspec": {
   "display_name": "Python 3 (ipykernel)",
   "language": "python",
   "name": "python3"
  },
  "language_info": {
   "codemirror_mode": {
    "name": "ipython",
    "version": 3
   },
   "file_extension": ".py",
   "mimetype": "text/x-python",
   "name": "python",
   "nbconvert_exporter": "python",
   "pygments_lexer": "ipython3",
   "version": "3.10.9"
  }
 },
 "nbformat": 4,
 "nbformat_minor": 5
}
