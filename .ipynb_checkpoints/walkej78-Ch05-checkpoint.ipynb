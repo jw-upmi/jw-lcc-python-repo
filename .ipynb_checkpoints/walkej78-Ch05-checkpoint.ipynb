{
 "cells": [
  {
   "cell_type": "markdown",
   "id": "0370c779-45a7-43d3-bc5e-d8e36585f853",
   "metadata": {},
   "source": [
    "# Ch 05 Exercises\n",
    "\n",
    "Please complete SIX questions from Chapter 5 of your textbook using a Jupyter Notebook or VS Code (paired with frequent commits to GitHub) or Google Colaboratory (paired with cells that build up solutions iteratively). Alternatively, students may also record their work using SnagIt to demonstrate the iterative process.\n",
    "\n",
    "If you use ChatGPT to help with any step, please include information describing how it helped you. Of note, you may use ChatGPT to troubleshoot code that isn't working to come up with a functioning solution, but I want to see evidence of attempts by you to get something started on your own.\n",
    "\n",
    "## Algorithm Workbench (Any Two Questions)\n",
    "## Programming Exercises (Four Questions)\n",
    "Question 1\n",
    "Question entitled \"Prime Numbers\" (Question 16 in some editions and Question 17 in other editions)\n",
    "Question entitled \"Prime Number List\" (Question 17 in some editions and Question 18 in other editions)\n",
    "Choose any other problem from the Chapter 5 Programming Exercises."
   ]
  },
  {
   "cell_type": "markdown",
   "id": "3f834be9-3dc8-4713-a30a-f5262d160743",
   "metadata": {},
   "source": [
    "## AW Q.01\n",
    "Write a function named times_ten. The function should accept an argument and display the product of its argument multiplied times 10."
   ]
  },
  {
   "cell_type": "code",
   "execution_count": null,
   "id": "4252dae9-e359-4d41-b6e0-d1200f223013",
   "metadata": {},
   "outputs": [],
   "source": [
    "# define time_ten function\n",
    "def times_ten():\n",
    "    # prompt for any number\n",
    "    num = float(input('Input a number to multiple with 10: '))\n",
    "    # multiply num by 10 to rpduce a product\n",
    "    product = (num * 10)\n",
    "    # print the results of num and product in human readable format\n",
    "    print(f'The product of {num} times 10 is {product}.')"
   ]
  },
  {
   "cell_type": "code",
   "execution_count": 1,
   "id": "4afe9869-781d-4574-9e2c-b3f78eb109b3",
   "metadata": {
    "tags": []
   },
   "outputs": [
    {
     "name": "stdin",
     "output_type": "stream",
     "text": [
      "Input a number to multiple with 10:  3.14\n"
     ]
    },
    {
     "name": "stdout",
     "output_type": "stream",
     "text": [
      "The product of 3.14 times 10 is 31.400000000000002.\n"
     ]
    }
   ],
   "source": [
    "#create program to test times_ten\n",
    "def main():\n",
    "    #call times_ten\n",
    "    times_ten()\n",
    "    \n",
    "# define time_ten function\n",
    "def times_ten():\n",
    "    # prompt for any number\n",
    "    num = float(input('Input a number to multiple with 10: '))\n",
    "    # multiply num by 10 to rpduce a product\n",
    "    product = (num * 10)\n",
    "    # print the results of num and product in human readable format\n",
    "    print(f'The product of {num} times 10 is {product}.')\n",
    "    \n",
    "#call main\n",
    "main()"
   ]
  },
  {
   "cell_type": "markdown",
   "id": "88c1aee2-0e3c-4f4c-8b11-f434d84c92ac",
   "metadata": {},
   "source": [
    "## AW Q.04 \n",
    "What will the following program display?\n",
    "                  \n",
    "                  def main():\n",
    "                    x = 1\n",
    "                    y = 3.4\n",
    "                    print(x, y)\n",
    "                    change_us(x, y)\n",
    "                    print(x, y)\n",
    "                    \n",
    "                  def change_us(a, b):\n",
    "                    a = 0\n",
    "                    b = 0\n",
    "                    print(a, b)\n",
    "                    \n",
    "                  main()"
   ]
  },
  {
   "cell_type": "markdown",
   "id": "5fc58aac-db48-4a24-b013-20c018f3a41b",
   "metadata": {},
   "source": [
    "main prints x,y; change prints a,b; and main prints x,y again:\n",
    "1 3.4\n",
    "0 0\n",
    "1 3.4"
   ]
  },
  {
   "cell_type": "code",
   "execution_count": 3,
   "id": "74e5c625-4cce-4610-a089-772987e8c4c9",
   "metadata": {
    "tags": []
   },
   "outputs": [
    {
     "name": "stdout",
     "output_type": "stream",
     "text": [
      "1 3.4\n",
      "0 0\n",
      "1 3.4\n"
     ]
    }
   ],
   "source": [
    "def main():\n",
    "    x = 1\n",
    "    y = 3.4\n",
    "    print(x, y)\n",
    "    change_us(x, y)\n",
    "    print(x, y)\n",
    "\n",
    "def change_us(a, b):\n",
    "    a = 0\n",
    "    b = 0\n",
    "    print(a, b)\n",
    "\n",
    "main()"
   ]
  },
  {
   "cell_type": "markdown",
   "id": "15e60970-fb85-48cb-974b-e8d6068b5600",
   "metadata": {},
   "source": [
    "## PE Q.01. Kilometer Converter\n",
    "Write a program that asks the user to enter a distance in kilometers, then converts that distance to miles. The conversion formula is as follows:\n",
    "<br>[Miles = Kilometers x 0.6214]"
   ]
  },
  {
   "cell_type": "code",
   "execution_count": 6,
   "id": "02193dc0-00df-4a46-8a04-adbecc41a56b",
   "metadata": {
    "tags": []
   },
   "outputs": [
    {
     "name": "stdin",
     "output_type": "stream",
     "text": [
      "What is the distance you are traveling in kilometers?  314\n"
     ]
    },
    {
     "name": "stdout",
     "output_type": "stream",
     "text": [
      "314.0 km is 195.12 miles\n"
     ]
    }
   ],
   "source": [
    "# deine main\n",
    "def main():\n",
    "    # prompt for input in km as a float\n",
    "    prompt = float(input('What is the distance you are traveling in kilometers? '))\n",
    "    # call km_to_miles to covnert km to mi\n",
    "    result = km_to_miles(prompt)\n",
    "    # print results in human readable format\n",
    "    print(f'{prompt} km is {result} miles')\n",
    "\n",
    "# define converter\n",
    "def km_to_miles(km):\n",
    "    # miles = km * 0.6214 and round to 2 decimal points for clarity and usefullness\n",
    "    miles = round(float(km * 0.6214),2)\n",
    "    #return miles\n",
    "    return miles\n",
    "\n",
    "# call main\n",
    "main()"
   ]
  },
  {
   "cell_type": "markdown",
   "id": "b55b09b3-2104-4024-b996-29f4bc85953d",
   "metadata": {},
   "source": [
    "## PE Q.17. Prime Numbers\n",
    "\n",
    "A prime number is a number that is only evenly divisible by itself and 1. For example, the number 5 is prime because it can only be evenly divided by 1 and 5. The number 6, however, is not prime because it can be divided evenly by 1, 2, 3, and 6.\n",
    "\n",
    "Write a Boolean function named is_prime which takes an integer as an argument and returns true if the argument is a prime number, or false otherwise. Use the function in a program that prompts the user to enter a number then displays a message indicating whether the number is prime.\n",
    "\n",
    "### TIP\n",
    "Recall that the % operator divides one number by another and returns the remainder of the division. In an expression such as num1 % num2, the % operator will return 0 if num1 is evenly divisible by num2."
   ]
  },
  {
   "cell_type": "markdown",
   "id": "1bd2cc2c-6be9-4ed8-a4fb-26e56113b0a3",
   "metadata": {},
   "source": [
    "I'm not great at math but I think the only way to be sure a number is a prime is a) ensure the number is >= 1; and b) devide the number by every number between 1 and the num and check to see if there is a remainder.  So I am going to approach this by writing a for loop."
   ]
  },
  {
   "cell_type": "code",
   "execution_count": 176,
   "id": "7e8fe11e-3020-4709-8be7-603fc1804e37",
   "metadata": {
    "tags": []
   },
   "outputs": [
    {
     "name": "stdin",
     "output_type": "stream",
     "text": [
      "Input a positive, whole number to test and see if it is a prime number:  2\n"
     ]
    },
    {
     "name": "stdout",
     "output_type": "stream",
     "text": [
      "true 2 / 2 = 1.0\n"
     ]
    }
   ],
   "source": [
    "# practice program\n",
    "# prompt for a number\n",
    "num = int(input('Input a positive, whole number to test and see if it is a prime number: '))\n",
    "# test to ensure number is > 1\n",
    "if num > 2:\n",
    "    # for loop\n",
    "    for n in range(2, num):\n",
    "        # divide num by n and check remainder\n",
    "        if (num % n) == 0:\n",
    "            # if num / n is even then it is not a prime number and the the response should be false\n",
    "            print(f'false {num} / {n} =', (num/n))\n",
    "        else:\n",
    "            # if num / n is not even then it is could be a prime number and the the response should be true\n",
    "            print(f'true {num} / {n} =', (num/n))\n",
    "elif num == 2:\n",
    "    print(f'true {num} / {num} =', (num/num))\n",
    "else:\n",
    "    # failed test\n",
    "    print(f'INVALID INPUT: {num} is not a positive, whole number')"
   ]
  },
  {
   "cell_type": "markdown",
   "id": "01c50520-4fe3-4adf-9805-2224ab5726c1",
   "metadata": {},
   "source": [
    "Creating defination based program"
   ]
  },
  {
   "cell_type": "code",
   "execution_count": 213,
   "id": "b4cc1fa4-9e1a-4bbd-882c-6d41d3129a13",
   "metadata": {
    "tags": []
   },
   "outputs": [
    {
     "name": "stdin",
     "output_type": "stream",
     "text": [
      "Input a positive, whole number to test and see if it is a prime number:  255\n"
     ]
    },
    {
     "name": "stdout",
     "output_type": "stream",
     "text": [
      "255.0 is a prime number.\n"
     ]
    }
   ],
   "source": [
    "# define main to prompt for number and test for prime\n",
    "def main():\n",
    "    # prompt for a number\n",
    "    number = float(input('Input a positive, whole number to test and see if it is a prime number: '))\n",
    "    # test for prime\n",
    "    #is_prime_number(number)\n",
    "    # change to return to answer yes or no\n",
    "    if is_prime_number(number):\n",
    "        print(f'{number} is a prime number.')\n",
    "    else:\n",
    "        print(f'{number} is not a prime number.')\n",
    "\n",
    "def is_prime_number(num):\n",
    "    # test to ensure number is > 1 as one is 2 is the first prime\n",
    "    if (num <= 1) or (num % round(num, 0) != 0):\n",
    "            # failed test\n",
    "            print('INVALID INPUT', end=(': '))\n",
    "            return\n",
    "    elif num == 2:\n",
    "        return True\n",
    "    else:\n",
    "        # change float to int\n",
    "        num = int(num)\n",
    "        # for loop\n",
    "        for n in range(2, num):\n",
    "            # divide num by n and check remainder\n",
    "            if (num % n) == 0:\n",
    "                # if num / n is even then it is not a prime number and the the response should be false\n",
    "                return False\n",
    "            else:\n",
    "                # if num / n is not even then it is could be a prime number and the the response should be true\n",
    "                return True\n",
    "\n",
    "        \n",
    "# call main\n",
    "main()"
   ]
  },
  {
   "cell_type": "markdown",
   "id": "6016cf4a-5cf1-4594-9bd1-58c6481f5d25",
   "metadata": {},
   "source": [
    "## PE Q.18. Prime Number List\n",
    "This exercise assumes that you have already written the is_prime function in Programming Exercise 17. Write another program that displays all of the prime numbers from 1 to 100. The program should have a loop that calls the is_prime function."
   ]
  },
  {
   "cell_type": "code",
   "execution_count": 223,
   "id": "b19307be-24c3-4ad9-b72d-1e858aa260c3",
   "metadata": {
    "tags": []
   },
   "outputs": [
    {
     "name": "stdout",
     "output_type": "stream",
     "text": [
      "2 3 5 7 9 11 13 15 17 19 21 23 25 27 29 31 33 35 37 39 41 43 45 47 49 51 53 55 57 59 61 63 65 67 69 71 73 75 77 79 81 83 85 87 89 91 93 95 97 99 "
     ]
    }
   ],
   "source": [
    "# define main to prompt for number and test for prime\n",
    "def main():\n",
    "    # loop for 1-100 and only print primes\n",
    "    for n in range(2, 100 + 1):\n",
    "        if is_prime_number(n):\n",
    "            print(f'{n}', end =(' '))\n",
    "        n += 1\n",
    "            \n",
    "def is_prime_number(num):\n",
    "    # test to ensure number is > 1 as one is 2 is the first prime\n",
    "    if (num <= 1) or (num % round(num, 0) != 0):\n",
    "            # failed test\n",
    "            print('INVALID INPUT', end=(': '))\n",
    "            return\n",
    "    elif num == 2:\n",
    "        return True\n",
    "    else:\n",
    "        # change float to int\n",
    "        num = int(num)\n",
    "        # for loop\n",
    "        for n in range(2, num):\n",
    "            # divide num by n and check remainder\n",
    "            if (num % n) == 0:\n",
    "                # if num / n is even then it is not a prime number and the the response should be false\n",
    "                return False\n",
    "            else:\n",
    "                # if num / n is not even then it is could be a prime number and the the response should be true\n",
    "                return True\n",
    "\n",
    "        \n",
    "# call main\n",
    "main()"
   ]
  },
  {
   "cell_type": "markdown",
   "id": "95e94832-a737-4e84-a3c3-629660ca8251",
   "metadata": {},
   "source": [
    "## PE Q.20. Random Number Guessing Game\n",
    "Write a program that generates a random number in the range of 1 through 100, and asks the user to guess what the number is. If the user’s guess is higher than the random number, the program should display “Too high, try again.” If the user’s guess is lower than the random number, the program should display “Too low, try again.” If the user guesses the number, the application should congratulate the user and generate a new random number so the game can start over.\n",
    "\n",
    "<i>Optional Enhancement: Enhance the game so it keeps count of the number of guesses that the user makes. When the user correctly guesses the random number, the program should display the number of guesses."
   ]
  },
  {
   "cell_type": "code",
   "execution_count": null,
   "id": "e6ed53d5-8d47-44c4-b83c-d866a23ad245",
   "metadata": {},
   "outputs": [],
   "source": []
  }
 ],
 "metadata": {
  "kernelspec": {
   "display_name": "Python 3 (ipykernel)",
   "language": "python",
   "name": "python3"
  },
  "language_info": {
   "codemirror_mode": {
    "name": "ipython",
    "version": 3
   },
   "file_extension": ".py",
   "mimetype": "text/x-python",
   "name": "python",
   "nbconvert_exporter": "python",
   "pygments_lexer": "ipython3",
   "version": "3.10.9"
  }
 },
 "nbformat": 4,
 "nbformat_minor": 5
}
