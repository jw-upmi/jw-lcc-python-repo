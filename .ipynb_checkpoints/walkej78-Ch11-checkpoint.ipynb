{
 "cells": [
  {
   "cell_type": "markdown",
   "id": "d4fb9cbd-8a24-494c-a72a-9c67e2afa533",
   "metadata": {
    "jp-MarkdownHeadingCollapsed": true,
    "tags": []
   },
   "source": [
    "# Coding Set 11 Exercises"
   ]
  },
  {
   "cell_type": "markdown",
   "id": "96bab3b2-f43a-4fd4-bb65-0b3b6db080fb",
   "metadata": {},
   "source": [
    "Please complete <b>TWO</b> questions from the Programming Exercises section of Chapter 11 of your textbook using a Jupyter Notebook or VS Code (paired with frequent commits to GitHub) or Google Colaboratory (paired with cells that build up solutions iteratively or access to your revision history). There are fewer problems, but you have more components that must be included with each solution.\n",
    "\n",
    "In preparation for the practical component of your final exam, students must also complete the following additional components for each solution:\n",
    "\n",
    "    • Screen record work using SnagIt to demonstrate the iterative process. The recording should include audio that walks through your thoughts as you craft a solution. This component of your grade will be reflected in your iteration grade in the rubric.\n",
    "    • Create and leverage at least one custom module for each solution. This component of your grade will be reflected as one third of your functionality grades in the rubric.\n",
    "    • Create at least one diagram (either a flowchart or a hierarchy chart) for each solution. that details aspects of your solution. This component will be reflected in your explanation grade in the rubric.\n",
    "    • Remember, all solutions should include a main function that starts execution.\n",
    "\n",
    "<i>If you use ChatGPT to help with any step, please include information describing how it helped you. Of note, you may use ChatGPT to troubleshoot code that isn't working to come up with a functioning solution, but I want to see evidence of attempts by you to get something started on your own. Additionally, I want to see evidence of you refining any AI-generated solutions to better meet the specific needs of our assignment.</i>"
   ]
  },
  {
   "cell_type": "markdown",
   "id": "3632bcce-7f70-4215-9310-1f245a7233c5",
   "metadata": {
    "jp-MarkdownHeadingCollapsed": true,
    "tags": []
   },
   "source": [
    "## Program Exercises\n",
    "\n",
    "1. <b>Employee</b> and <b>ProductionWorker</b> Classes<br>Write an <b>Employee</b> class that keeps data attributes for the following pieces of information:<br>        • Employee name<br>        • Employee number\n",
    "\n",
    "\n",
    "    Next, write a class named <b>ProductionWorker</b> that is a subclass of the <b>Employee</b> class. The <b>ProductionWorker</b> class should keep data attributes for the following information:<br>        • Shift number (an integer, such as 1, 2, or 3)<br>        • Hourly pay rate\n",
    "\n",
    "\n",
    "    The workday is divided into two shifts: day and night. The shift attribute will hold an integer value representing the shift that the employee works. The day shift is shift 1 and the night shift is shift 2. Write the appropriate accessor and mutator methods for each class.\n",
    "\n",
    "    Once you have written the classes, write a program that creates an object of the <b>ProductionWorker</b> class and prompts the user to enter data for each of the objects data attributes. Store the data in the object, then use the objects accessor methods to retrieve it and display it on the screen.\n",
    "                \n",
    "                \n",
    "2. <b>ShiftSupervisor</b> Class<br>In a particular factory, a shift supervisor is a salaried employee who supervises a shift. In addition to a salary, the shift supervisor eams a yearly bonus when his or her shift meets production goals. Write a <b>ShiftSupervisor</b> class that is a subclass of the <b>Employee</b> class you created in Erogramming Exercise 1 . The <b>ShiftSupervisor</b> class should keep a data attribute for the annual salary, and a data attribute for the annual production bonus that a shift supervisor has earned. Demonstrate the class by writing a program that uses a <b>ShiftSupervisor</b> object.\n",
    "\n",
    "3. <b>Person</b> and <b>Customer</b> Classes<br>Write a class named <b>Person</b> with data attributes for a person's name, address, and telephone number. Next, write a class named <b>Customer</b> that is a subclass of the Person class. The <b>Customer</b> class should have a data attribute for a customer number, and a Boolean data attribute indicating whether the customer wishes to be on a mailing list. Demonstrate an instance of the <b>Customer</b> class in a simple program."
   ]
  },
  {
   "cell_type": "markdown",
   "id": "1c052c79-2596-48cb-a4c8-d3122df4ce88",
   "metadata": {},
   "source": [
    "# PE01 <b>Employee</b> and <b>ProductionWorker</b> Classes\n",
    "Write an <b>Employee</b> class that keeps data attributes for the following pieces of information:<br>        • Employee name<br>        • Employee number\n",
    "\n",
    "Next, write a class named <b>ProductionWorker</b> that is a subclass of the <b>Employee</b> class. The <b>ProductionWorker</b> class should keep data attributes for the following information:<br>        • Shift number (an integer, such as 1, 2, or 3)<br>        • Hourly pay rate\n",
    "\n",
    "The workday is divided into two shifts: day and night. The shift attribute will hold an integer value representing the shift that the employee works. The day shift is shift 1 and the night shift is shift 2. Write the appropriate accessor and mutator methods for each class.\n",
    "\n",
    "Once you have written the classes, write a program that creates an object of the <b>ProductionWorker</b> class and prompts the user to enter data for each of the objects data attributes. Store the data in the object, then use the objects accessor methods to retrieve it and display it on the screen."
   ]
  },
  {
   "cell_type": "code",
   "execution_count": 8,
   "id": "f28f38ff-a081-4651-9dc3-a26561257e87",
   "metadata": {
    "tags": []
   },
   "outputs": [],
   "source": [
    "# class file to walkej78_Ch11_PE01_employee.py\n",
    "class Employee:\n",
    "    # initialize Employee class\n",
    "    def __init__(self, employee_name, employee_number):\n",
    "        # define employee_name attribute\n",
    "        self.__employee_name = employee_name\n",
    "        # define employee_number attribute\n",
    "        self.__employee_number = employee_number\n",
    "    \n",
    "    # define set_employee_name to set an employee's name\n",
    "    def set_employee_name(self, employee_name):\n",
    "        self.__employee_name = employee_name\n",
    "\n",
    "    # define set_employee_number to set an employee's number\n",
    "    def set_employee_number(self, employee_number):\n",
    "        self.__employee_number = employee_number\n",
    "    \n",
    "    # define get_employee_name to retrieve an employee's name\n",
    "    def get_employee_name(self):\n",
    "        return self._employee_name\n",
    "    \n",
    "    # define get_employee_number to retrieve an employee's number\n",
    "    def get_employee_number(self):\n",
    "        return self.__employee_number\n",
    "\n",
    "# create subclass ProductionWorker\n",
    "class ProductionWorker:\n",
    "    # initialize ProductionWorker subclass\n",
    "    def __init__(self, employee_name, employee_number, shift_number, hr_pay_rate):\n",
    "        # define shift_number attribute\n",
    "        self.__shift_number = int(shift_number)\n",
    "        # define hr_pay_rate attribute to represent hourly pay rate\n",
    "        self.__hr_pay_rate = float(hr_pay_rate)\n",
    "    \n",
    "    # define set_shift_number for two integers (1 and 2) to represent the day shift as 1 and the night shift as 2.\n",
    "    def set_shift_number(self, shift_number):\n",
    "        self.__shift_number = int(shift_number)\n",
    "        \n",
    "    # define set_hr_pay_rate to set an employee's hourly pay rate\n",
    "    def set_hr_pay_rate(self, hr_pay_rate):\n",
    "        self.__hr_pay_rate = float(hr_pay_rate)\n",
    "        \n",
    "    # definte get_shift_number to retrieve an employee's shift number\n",
    "    def get_shift_number(self):\n",
    "        return self.__shift_number\n",
    "    \n",
    "    # define get_hr_pay_rate to retrieve an emplployee's hourly pay rate\n",
    "    def get_hr_pay_rate(self):\n",
    "        return self.__hr_pay_rate\n",
    "    "
   ]
  },
  {
   "cell_type": "code",
   "execution_count": 9,
   "id": "246e1609-3306-4c37-8824-a72c78a8643e",
   "metadata": {
    "tags": []
   },
   "outputs": [
    {
     "name": "stdout",
     "output_type": "stream",
     "text": [
      "\n",
      "\t##########################\n",
      "\t## Employee Information ##\n",
      "\t##########################\n",
      "\n"
     ]
    },
    {
     "ename": "NameError",
     "evalue": "name 'get_employee_name' is not defined",
     "output_type": "error",
     "traceback": [
      "\u001b[1;31m---------------------------------------------------------------------------\u001b[0m",
      "\u001b[1;31mNameError\u001b[0m                                 Traceback (most recent call last)",
      "Cell \u001b[1;32mIn[9], line 39\u001b[0m\n\u001b[0;32m     37\u001b[0m \u001b[38;5;66;03m# Call the main function.\u001b[39;00m\n\u001b[0;32m     38\u001b[0m \u001b[38;5;28;01mif\u001b[39;00m \u001b[38;5;18m__name__\u001b[39m \u001b[38;5;241m==\u001b[39m \u001b[38;5;124m'\u001b[39m\u001b[38;5;124m__main__\u001b[39m\u001b[38;5;124m'\u001b[39m:\n\u001b[1;32m---> 39\u001b[0m       \u001b[43mmain\u001b[49m\u001b[43m(\u001b[49m\u001b[43m)\u001b[49m\n",
      "Cell \u001b[1;32mIn[9], line 33\u001b[0m, in \u001b[0;36mmain\u001b[1;34m()\u001b[0m\n\u001b[0;32m     31\u001b[0m employee1 \u001b[38;5;241m=\u001b[39m Employee(\u001b[38;5;124m'\u001b[39m\u001b[38;5;124mJohn Smith\u001b[39m\u001b[38;5;124m'\u001b[39m, \u001b[38;5;124m'\u001b[39m\u001b[38;5;124m01234\u001b[39m\u001b[38;5;124m'\u001b[39m)\n\u001b[0;32m     32\u001b[0m employee2 \u001b[38;5;241m=\u001b[39m ProductionWorker(\u001b[38;5;124m'\u001b[39m\u001b[38;5;124mJemma Early\u001b[39m\u001b[38;5;124m'\u001b[39m, \u001b[38;5;124m'\u001b[39m\u001b[38;5;124m01111\u001b[39m\u001b[38;5;124m'\u001b[39m, \u001b[38;5;124m'\u001b[39m\u001b[38;5;124m1\u001b[39m\u001b[38;5;124m'\u001b[39m, \u001b[38;5;124m'\u001b[39m\u001b[38;5;124m17.99\u001b[39m\u001b[38;5;124m'\u001b[39m)\n\u001b[1;32m---> 33\u001b[0m \u001b[38;5;28mprint\u001b[39m(\u001b[38;5;124mf\u001b[39m\u001b[38;5;124m'\u001b[39m\u001b[38;5;124memployee1 is \u001b[39m\u001b[38;5;132;01m{\u001b[39;00mget_employee_name(employee1)\u001b[38;5;132;01m}\u001b[39;00m\u001b[38;5;124m'\u001b[39m)\n\u001b[0;32m     34\u001b[0m \u001b[38;5;28mprint\u001b[39m(\u001b[38;5;124mf\u001b[39m\u001b[38;5;124m'\u001b[39m\u001b[38;5;124memployee2 is \u001b[39m\u001b[38;5;132;01m{\u001b[39;00mget_employee_name(employee2)\u001b[38;5;132;01m}\u001b[39;00m\u001b[38;5;124m'\u001b[39m)\n\u001b[0;32m     35\u001b[0m \u001b[38;5;28mprint\u001b[39m(\u001b[38;5;124mf\u001b[39m\u001b[38;5;124m'\u001b[39m\u001b[38;5;124memployee2 is \u001b[39m\u001b[38;5;132;01m{\u001b[39;00mget_shift_number(employee2)\u001b[38;5;132;01m}\u001b[39;00m\u001b[38;5;124m'\u001b[39m)\n",
      "\u001b[1;31mNameError\u001b[0m: name 'get_employee_name' is not defined"
     ]
    }
   ],
   "source": [
    "# write a program that creates an object of the ProductionWorker class and prompts the user\n",
    "# to enter data for each of the objects data attributes. Store the data in the object, then\n",
    "# use the objects accessor methods to retrieve it and display it on the screen.\n",
    "\n",
    "# import Employee and ProductionWorker classes\n",
    "import walkej78_Ch11_PE01_employee\n",
    "\n",
    "# create porgram title to print\n",
    "def title():\n",
    "    print('\\n\\t##########################')\n",
    "    print('\\t## Employee Information ##')\n",
    "    print('\\t##########################\\n')\n",
    "\n",
    "# define set_productionworker_info to ask for employee's information\n",
    "def set_productionworker_info():\n",
    "    employee_name = input('Please input the employee\\'s full name: ')\n",
    "    employee_number = input('Please input the employee\\s : ')\n",
    "    shift_number = input('Please input the employee\\s shift numer ( 1 = morning, 2 = evening): ')\n",
    "    hr_pay_rate = input('Please input the employee\\s hour pay rate: $ ')\n",
    "    prompt = ProductionWorker(employee_name, employee_number, shift_number, hr_pay_rate)\n",
    "\n",
    "# define set_employee_info to ask for employee's information\n",
    "def set_employee_info():\n",
    "    employee_name = input('Please input the employee\\'s full name: ')\n",
    "    employee_number = input('Please input the employee\\s : ')\n",
    "    prompt = Employee(employee_name, employee_number)\n",
    "    \n",
    "# define main\n",
    "def main():\n",
    "    title()\n",
    "    employee1 = Employee('John Smith', '01234')\n",
    "    employee2 = ProductionWorker('Jemma Early', '01111', '1', '17.99')\n",
    "    print(f'employee1 is {get_employee_name(employee1)}')\n",
    "    print(f'employee2 is {get_employee_name(employee2)}')\n",
    "    print(f'employee2 is {get_shift_number(employee2)}')\n",
    "    \n",
    "# Call the main function.\n",
    "if __name__ == '__main__':\n",
    "      main()"
   ]
  },
  {
   "cell_type": "markdown",
   "id": "ddb70e3d-7669-4a1d-a457-e836476db44a",
   "metadata": {},
   "source": [
    "# PE02 <b>ShiftSupervisor</b> Class\n",
    "In a particular factory, a shift supervisor is a salaried employee who supervises a shift. In addition to a salary, the shift supervisor eams a yearly bonus when his or her shift meets production goals. Write a <b>ShiftSupervisor</b> class that is a subclass of the <b>Employee</b> class you created in Erogramming Exercise 1 . The <b>ShiftSupervisor</b> class should keep a data attribute for the annual salary, and a data attribute for the annual production bonus that a shift supervisor has earned. Demonstrate the class by writing a program that uses a <b>ShiftSupervisor</b> object."
   ]
  },
  {
   "cell_type": "code",
   "execution_count": null,
   "id": "1c1cb495-5fbe-4e34-8eb8-db2664fe2719",
   "metadata": {},
   "outputs": [],
   "source": []
  }
 ],
 "metadata": {
  "kernelspec": {
   "display_name": "Python 3 (ipykernel)",
   "language": "python",
   "name": "python3"
  },
  "language_info": {
   "codemirror_mode": {
    "name": "ipython",
    "version": 3
   },
   "file_extension": ".py",
   "mimetype": "text/x-python",
   "name": "python",
   "nbconvert_exporter": "python",
   "pygments_lexer": "ipython3",
   "version": "3.10.9"
  },
  "widgets": {
   "application/vnd.jupyter.widget-state+json": {
    "state": {},
    "version_major": 2,
    "version_minor": 0
   }
  }
 },
 "nbformat": 4,
 "nbformat_minor": 5
}
