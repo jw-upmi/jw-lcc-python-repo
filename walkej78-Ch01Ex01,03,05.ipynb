{
 "cells": [
  {
   "attachments": {},
   "cell_type": "markdown",
   "id": "11b40883",
   "metadata": {},
   "source": [
    "# Ch 1 Exercises"
   ]
  },
  {
   "attachments": {},
   "cell_type": "markdown",
   "id": "a071c9ca",
   "metadata": {},
   "source": [
    "## Ch 1 Ex 1: Verify Python Interpreter Functions"
   ]
  },
  {
   "cell_type": "code",
   "execution_count": 13,
   "id": "58794edc-fda1-497f-ba38-c8cf2bc322f8",
   "metadata": {},
   "outputs": [
    {
     "name": "stdout",
     "output_type": "stream",
     "text": [
      "This is a test of the Python interpreter.\n",
      "Does this 😁 show up for you? I am using Python 3.11 on Windows 11 to display \n",
      "without issue in IDLE, terminal, console, and Mozille 113.\n"
     ]
    }
   ],
   "source": [
    "print('This is a test of the Python interpreter.')\n",
    "print('Does this 😁 show up for you? I am using Python 3.11 on Windows 11 to display \\nwithout issue in IDLE, terminal, console, and Mozille 113.')"
   ]
  },
  {
   "attachments": {},
   "cell_type": "markdown",
   "id": "731497c1",
   "metadata": {},
   "source": [
    "## Ch 1 Ex 3: Convert decimal/base-10 to decimal/base-2."
   ]
  },
  {
   "attachments": {},
   "cell_type": "markdown",
   "id": "f8b0e783",
   "metadata": {},
   "source": [
    "### 10, 65, 100, 256"
   ]
  },
  {
   "cell_type": "code",
   "execution_count": 6,
   "id": "12976692-f744-46ce-b430-f7803c0c5e27",
   "metadata": {},
   "outputs": [
    {
     "name": "stdout",
     "output_type": "stream",
     "text": [
      "\n",
      "What is 11 in binary?\n",
      "11/2 = 5 r 1\n",
      "5/2 = 2 r 1\n",
      "2/2 = 1 r 0\n",
      "1/2 = 0 r 1\n",
      "11 is 1011 in binary\n",
      "Check answer using bin(11):   0b1011\n"
     ]
    }
   ],
   "source": [
    "### 11\n",
    "print('\\nWhat is 11 in binary?')\n",
    "print('11/2 = 5 r 1')\n",
    "print('5/2 = 2 r 1')\n",
    "print('2/2 = 1 r 0')\n",
    "print('1/2 = 0 r 1')\n",
    "print('11 is 1011 in binary')\n",
    "print('Check answer using bin(11):  ', bin(11))"
   ]
  },
  {
   "cell_type": "code",
   "execution_count": 7,
   "id": "365190d4-aa86-4a0e-a52d-af4a0da980e3",
   "metadata": {},
   "outputs": [
    {
     "name": "stdout",
     "output_type": "stream",
     "text": [
      "\n",
      "What is 65 in binary?\n",
      "65/2 = 32 r 1\n",
      "32/2 = 16 r 0\n",
      "16/2 = 8 r 0\n",
      "8/2 = 4 r 0\n",
      "4/2 = 2 r 0\n",
      "2/2 = 1 r 0\n",
      "1/2 = 0 r 1\n",
      "65 is 1000001 in binary\n",
      "Check answer using bin(65):   0b1000001\n"
     ]
    }
   ],
   "source": [
    "### 65\n",
    "print('\\nWhat is 65 in binary?')\n",
    "print('65/2 = 32 r 1')\n",
    "print('32/2 = 16 r 0')\n",
    "print('16/2 = 8 r 0')\n",
    "print('8/2 = 4 r 0')\n",
    "print('4/2 = 2 r 0')\n",
    "print('2/2 = 1 r 0')\n",
    "print('1/2 = 0 r 1')\n",
    "print('65 is 1000001 in binary')\n",
    "print('Check answer using bin(65):  ', bin(65))"
   ]
  },
  {
   "cell_type": "code",
   "execution_count": 8,
   "id": "7f29100f-4863-44e1-bc99-b46976784f73",
   "metadata": {},
   "outputs": [
    {
     "name": "stdout",
     "output_type": "stream",
     "text": [
      "\n",
      "What is 100 in binary?\n",
      "100/2 = 50 r 0\n",
      "50/2 = 25 r 0\n",
      "25/2 = 12 r 1\n",
      "12/2 = 6 r 0\n",
      "6/2 = 3 r 0\n",
      "3/2 = 1 r 1\n",
      "1/2 = 0 r 1\n",
      "100 is 1100100 in binary\n",
      "Check answer using bin(100):   0b1100100\n"
     ]
    }
   ],
   "source": [
    "## 100\n",
    "print('\\nWhat is 100 in binary?')\n",
    "print('100/2 = 50 r 0')\n",
    "print('50/2 = 25 r 0')\n",
    "print('25/2 = 12 r 1')\n",
    "print('12/2 = 6 r 0')\n",
    "print('6/2 = 3 r 0')\n",
    "print('3/2 = 1 r 1')\n",
    "print('1/2 = 0 r 1')\n",
    "print('100 is 1100100 in binary')\n",
    "print('Check answer using bin(100):  ', bin(100))"
   ]
  },
  {
   "cell_type": "code",
   "execution_count": 9,
   "id": "326e69c8-0984-4b25-92a4-41e3c291f12c",
   "metadata": {},
   "outputs": [
    {
     "name": "stdout",
     "output_type": "stream",
     "text": [
      "\n",
      "What is 255 in binary?\n",
      "255/2 = 127 r 1\n",
      "127/2 = 63 r 1\n",
      "63/2 = 31 r 1\n",
      "31/2 = 15 r 1\n",
      "15/2 = 7 r 1\n",
      "7/2 = 3 r 1\n",
      "3/2 = 1 r 1\n",
      "1/2 = 0 r 1\n",
      "255 is 11111111 in binary\n",
      "Check answer using bin(255):   0b11111111\n"
     ]
    }
   ],
   "source": [
    "## 255\n",
    "print('\\nWhat is 255 in binary?')\n",
    "print('255/2 = 127 r 1')\n",
    "print('127/2 = 63 r 1')\n",
    "print('63/2 = 31 r 1')\n",
    "print('31/2 = 15 r 1')\n",
    "print('15/2 = 7 r 1')\n",
    "print('7/2 = 3 r 1')\n",
    "print('3/2 = 1 r 1')\n",
    "print('1/2 = 0 r 1')\n",
    "print('255 is 11111111 in binary')\n",
    "print('Check answer using bin(255):  ', bin(255))"
   ]
  },
  {
   "attachments": {},
   "cell_type": "markdown",
   "id": "a97bc937",
   "metadata": {},
   "source": [
    "## Ch 1 Ex 5: What is the ASCII code for each letter of your first name?"
   ]
  },
  {
   "cell_type": "code",
   "execution_count": 14,
   "id": "af6d7b98-ff73-488e-9e83-d9d4044231a6",
   "metadata": {},
   "outputs": [
    {
     "name": "stdout",
     "output_type": "stream",
     "text": [
      "\n",
      "What is the ASCII code for each letter of your first name?\n",
      "J = 74\n",
      "o = 111\n",
      "n = 110\n",
      "a = 97\n",
      "t = 116\n",
      "h = 104\n",
      "a = 97\n",
      "n = 110\n",
      "\n",
      "Check using ord function:\n",
      " J   o   n  a   t   h  a   n\n",
      "74 111 110 97 116 104 97 110\n"
     ]
    }
   ],
   "source": [
    "###Jonathan\n",
    "print('\\nWhat is the ASCII code for each letter of your first name?')\n",
    "print('J = 74')\n",
    "print('o = 111')\n",
    "print('n = 110')\n",
    "print('a = 97')\n",
    "print('t = 116')\n",
    "print('h = 104')\n",
    "print('a = 97')\n",
    "print('n = 110')\n",
    "print('\\nCheck using ord function:')\n",
    "print(' J   o   n  a   t   h  a   n')\n",
    "print(ord('J'), ord('o'), ord('n'), ord('a'), ord('t'), ord('h'), ord('a'), ord('n'))"
   ]
  }
 ],
 "metadata": {
  "kernelspec": {
   "display_name": "Python 3 (ipykernel)",
   "language": "python",
   "name": "python3"
  },
  "language_info": {
   "codemirror_mode": {
    "name": "ipython",
    "version": 3
   },
   "file_extension": ".py",
   "mimetype": "text/x-python",
   "name": "python",
   "nbconvert_exporter": "python",
   "pygments_lexer": "ipython3",
   "version": "3.11.3"
  }
 },
 "nbformat": 4,
 "nbformat_minor": 5
}
